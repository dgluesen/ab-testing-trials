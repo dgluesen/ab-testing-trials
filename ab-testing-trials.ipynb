{
 "cells": [
  {
   "cell_type": "markdown",
   "metadata": {},
   "source": [
    "<div style=\"width:image width px; font-size:75%; text-align:right;\">\n",
    "    <img src=\"img/header_letizia-bordoni_unsplash.jpg\" width=\"width\" height=\"height\" style=\"padding-bottom:0.2em;\" />\n",
    "    <figcaption>Photo by Letizia Bordoni on Unsplash</figcaption>\n",
    "</div>"
   ]
  },
  {
   "cell_type": "markdown",
   "metadata": {},
   "source": [
    "# A/B-testing trials\n",
    "**Development of the theoretical basis for statistical hypothesis testing with calculation of sample data sets**"
   ]
  },
  {
   "cell_type": "markdown",
   "metadata": {},
   "source": [
    "*Dennis Gluesenkamp*"
   ]
  },
  {
   "cell_type": "markdown",
   "metadata": {},
   "source": [
    "## Table of contents\n",
    "* [Introduction and motivation](#introduction)\n",
    "* [Theoretical background](#theory)\n",
    "* [Arithmetic approaches](#arithmetic)\n",
    "    * [Self-implementation](#arithmetic_selfimplementation)\n",
    "    * [SciPy implementation](#arithmetic_scipy)\n",
    "* [Study of model cases](#study)\n",
    "    * [Supermarket](#study_supermarket)\n",
    "    * [Wholesale](#study_wholesale)\n",
    "* [References](#references)"
   ]
  },
  {
   "cell_type": "markdown",
   "metadata": {},
   "source": [
    "## Introduction and motivation<a class=\"anchor\" id=\"introduction\"></a>\n",
    "\n",
    "<table class=\"image styled\" style=\"margin-left: 0.5em\" cellspacing=\"0\" cellpadding=\"0\" align=\"right\">\n",
    "    <tbody><tr><td><img src=\"img/intro_jon-tyson_unsplash.jpg\" width=\"width\" height=\"height\" ></td></tr>\n",
    "        <tr><td class=\"caption\">Photo by Jon Tyson on Unsplash</td></tr>\n",
    "    </tbody>\n",
    "</table>\n",
    "\n",
    "The comparison of two groups with respect to a specific effect is of great interest in a variety of fields and applications. Here are just a few examples:\n",
    "* The design of a webshop is checked between two alternatives in order to increase the conversion of visitors into customers. Exemplary question: *Do you want the button to buy to be red or blue?*\n",
    "* The effectiveness of a drug is checked on the basis of two study groups, in which one group is given the drug and the other a placebo. The question: *Does the drug really influence the course of the disease?\n",
    "* Educational and career trajectories are compared in relation to socio-demographic factors. Exemplary question: *Do girls or boys achieve better results at school?*\n",
    "\n",
    "Especially in the field of marketing, website design or sales approach, this procedure is called **A/B testing**. This means that there are two groups of generally speaking customers who are presented different versions of a certain product, presentation or similar between the groups. Customer behavior is then compared in terms of a success metric, such as signing a contract, purchasing or providing contact information. As a result, the provider or operator receives a clear decision support as to which version should be implemented for the future in order to maximize the addressed success. In the following the basics will be worked out and some simple examples will be calculated. The central question will be whether the observed difference between the groups can be described as **significant**. For this purpose, the **t-** respectively **Welch-test** will be introduced."
   ]
  },
  {
   "cell_type": "markdown",
   "metadata": {},
   "source": [
    "## Theoretical background<a class=\"anchor\" id=\"theory\"></a>\n",
    "### Hypotheses<a class=\"anchor\" id=\"theory_hypotheses\"></a>\n",
    "If the comparison of two groups shows a difference in the measurable quantity, we want to know whether this difference is due to group membership or whether it is random. To stay with an example from the introduction: Is a higher turnover achieved with the red button due to the color of the button or is this difference to the blue button purely coincidental. To answer this question, hypotheses are formulated. The so-called **null hypothesis** describes the case that we want to reject on the basis of our experiment: The expected values of the measured variable are actually the same $\\mu_1 = \\mu_2 = \\mu$ because both samples are from the same population, although the sample means are different $\\bar{x}_1 \\neq \\bar{x}_2$. The statement disjoint to the null hypothesis is the **alternative hypothesis**. In this case it can be assumed that the samples are taken from different distributions with different expected values $\\mu_1 \\neq \\mu_2$ with respect to the measurand. Hence, it explains the difference between the empirical sample means $\\bar{x}_1 \\neq \\bar{x}_2$. The following chart is explaining these cases with samples from the same distribution on the left hand side and two different distributions with two different expected values on the right hand side."
   ]
  },
  {
   "cell_type": "markdown",
   "metadata": {},
   "source": [
    "<tr>\n",
    "    <td><img src=\"img/nullhypothesis.png\" style=\"width:85%;\"/></td>\n",
    "    <td><img src=\"img/alternativehypothesis.png\" style=\"width:85%;\"/></td>\n",
    "</tr>"
   ]
  },
  {
   "cell_type": "markdown",
   "metadata": {},
   "source": [
    "### Statistical testing<a class=\"anchor\" id=\"theory_testing\"></a>\n",
    "In order to test the null hypothesis and to make a statement whether the difference in the observed empirical mean values is significant, a statistical hypothesis test is performed. If we now look at exactly two groups/samples with a sample mean difference in the relevant measured variable, we apply the **t-test**.\n",
    "\n",
    "> *The t-test checks whether two means differ significantly from each other.* [[1, p.103]](#schaefer2011)\n",
    "\n",
    "Significant means that there is sufficient statistical evidence *to reject the null hypothesis*. However, the reverse conclusion does not apply: If the difference is not significant, the null hypothesis is *not* proven.\n",
    "\n",
    "The t-test requires certain criteria to be met for appropriate use. These are [[1, p.113]](#schaefer2011):\n",
    "* The samples are independent, so the two groups do not influence each other's behavior.\n",
    "* The dependent variable, i.e. the measurand, is interval scaled.\n",
    "* The dependent variable is normally distributed.\n",
    "* The variances are (almost) equal.\n",
    "\n",
    "<a class=\"anchor\" id=\"violation\"></a>However, the t-test is a robust test - it returns meaningful results even if these criteria are violated. Especially noteworthy is the normal distribution of the dependent variable. In some publications, the use of the non-parametric **Wilcoxon-Mann-Whitney test** is directly recommended when the normal distribution is violated. However, studies like Rasch & Guiard [[2]](#rasch2004) show that this is not necessarily the case.\n",
    "\n",
    "> *On the other hand the t-test is so robust against non-normality that there is nearly no need to use the Wilcoxon test. [...]  Generally  the  results are such that in most practical cases the parametric approach for inferences about means is so robust that it can be recommended in nearly all applications.* [[2]](#rasch2004)\n",
    "\n",
    "In our case of independent/unpaired and exactly two samples, the **test statistic $t$** is calculated as follows [[3, p.86](#semendjajew2003); [4, p.8](#kanji2006)].\n",
    "\\\\[\n",
    "    t = \\frac{\\bar{x}_A-\\bar{x}_B}{\\sqrt{\\left(n_A-1\\right) s_A^2 + \\left(n_B-1\\right) s_B^2}} \\sqrt{\\frac{n_a+n_b-2}{\\frac{1}{n_A} + \\frac{1}{n_B}}} \\label{eq:tstatistic}\\tag{1}\n",
    "\\\\]\n",
    "Here, $A$ and $B$ are denoting the samples. In the equation above, the **sample/empirical mean $\\bar{x}$** is [[3, p.79]](#semendjajew2003)\n",
    "\\\\[\n",
    "    \\bar{x} = \\frac{1}{n} \\sum_i^n x_i\n",
    "\\\\]\n",
    "with $n$ as the sample size and $x_i$ as the individual sample values. The **unbiased sample variance $s^2$** is [[3, p.80]](#semendjajew2003)\n",
    "\\\\[\n",
    "    s^2 = \\frac{1}{n-1} \\sum_i^n \\left(x_i - \\bar{x} \\right).\n",
    "\\\\]\n",
    "\n",
    "In cases where the variances are different $\\sigma_1 \\neq \\sigma_2$ the **Welch test** is to be preferred [[5, p.208]](#benesch2012). The test statistic changes to [[6]](#welch1947)\n",
    "\\\\[\n",
    "    t = \\frac{\\bar{x}_A-\\bar{x}_B}{\\sqrt{\\frac{s_A^2}{n_A} + \\frac{s_B^2}{n_B}}}. \\label{eq:welchtest}\\tag{2}\n",
    "\\\\]"
   ]
  },
  {
   "cell_type": "markdown",
   "metadata": {},
   "source": [
    "### Significance<a class=\"anchor\" id=\"theory_significance\"></a>\n",
    "Finally, we define a critical value $\\alpha$ from which we can reject the null hypothesis with good reason, which is our actual goal. A significance level is defined for this purpose. If the probability of committing a type I error, i.e. rejecting the null hypothesis even though it actually applies, falls below this level, the null hypothesis is rejected and this is called significant.\n",
    "\n",
    "How exactly $\\alpha$ should be chosen has often been the subject of research and is still debated. It should also be considered what it means to falsely reject the null hypothesis. Typically, tests with error probabilities below 5% are considered significant. As we will look at examples with no further implications in the following, we will also adopt this value, so $\\alpha = 0.05$. This means, if the null hypothesis is true, the probability of rejecting must not exceed 5%.\n",
    "\n",
    "In order to determine whether we can describe a mean difference as significant, we must calculate a measure of the confidence of the null hypothesis and compare it with the level of significance. This measure indicates the probability that the observed value or a value even further in the direction of the alternative hypothesis (in our case, a larger difference in sample means) occurs, but that the null hypothesis corresponds to reality. It thus indicates the degree of support for the null hypothesis. If it is below our previously defined significance level, we consider the test result to be significant. This probability measure is called **p-value**.\n",
    "\\\\[\n",
    "    p = 2 \\left( 1 - F\\left(\\left|t\\right|,\\nu\\right) \\right) \\label{eq:pvalue}\\tag{3}\n",
    "\\\\]\n",
    "Since the test statistics follow a Student's t-distribution, its cumulative distribution function $F\\left(\\left|t\\right|,\\nu\\right)$ is used to calculate the p-value, with degrees of freedom $\\nu=n_A+n_B-2$. The two-sided distribution is used because one empirical mean value can be greater or smaller than the other sample mean by the same margin. For further information on the cumulative distribution function $F\\left(\\left|t\\right|,\\nu\\right)$ - shown in the chart below - please refer to the literature, for instance [[7]](#johnson2005).\n",
    "\n",
    "<div style=\"width:image width px; font-size:75%; text-align:right;\">\n",
    "    <img src=\"img/cdf.png\" width=\"width\" height=\"height\" style=\"padding-bottom:0.2em;\" />\n",
    "    <figcaption>Cumulative distribution function of Student's t-distribution</figcaption>\n",
    "</div>"
   ]
  },
  {
   "cell_type": "markdown",
   "metadata": {},
   "source": [
    "## Arithmetic approaches<a class=\"anchor\" id=\"arithmetic\"></a>\n",
    "To realize the test we want to try different ways. On the one hand, we will implement our own methods in the following, which will calculate the corresponding test statistics. Above all, this will allow an exact reconstruction of the calculation path and thus will also help to understand the technique. Furthermore, we examine calculations for the t-test, which are offered in third-party packages for Python and can thus be used as an out of the box solution for hypothesis testing."
   ]
  },
  {
   "cell_type": "markdown",
   "metadata": {},
   "source": [
    "### Self-implementation<a class=\"anchor\" id=\"arithmetic_selfimplementation\"></a>\n",
    "For our own implementation of the test statistic $t$ we only use NumPy [[8](#oliphant2006); [9](#walt2011)]."
   ]
  },
  {
   "cell_type": "code",
   "execution_count": 1,
   "metadata": {},
   "outputs": [],
   "source": [
    "import numpy as np"
   ]
  },
  {
   "cell_type": "markdown",
   "metadata": {},
   "source": [
    "The sample means $\\bar{x}$ can be calculated on an array with the [``mean()`` function](#https://docs.scipy.org/doc/numpy/reference/generated/numpy.mean.html). The unbiased sample variance $s^2$ is implemented in NumPy's [``var()`` function](#https://docs.scipy.org/doc/numpy/reference/generated/numpy.var.html). The *Delta Degrees of Freedom* parameter has to be taken into account at this point. The default value is ``ddof = 0``. For an unbiased sample variance this has to be set to ``ddof = 1``. Finally, we need the [``sqrt()`` function](#https://docs.scipy.org/doc/numpy/reference/generated/numpy.sqrt.html) which leads us to the following function to calculate the test statistic $t$ of equation ([1](#mjx-eqn-eq:tstatistic))."
   ]
  },
  {
   "cell_type": "code",
   "execution_count": 2,
   "metadata": {},
   "outputs": [],
   "source": [
    "def tValue(A, B):\n",
    "    n_A = len(A)\n",
    "    n_B = len(B)\n",
    "    m_A = A.mean()\n",
    "    m_B = B.mean()\n",
    "    s_A = A.var(ddof = 1)\n",
    "    s_B = B.var(ddof = 1)\n",
    "    \n",
    "    return (m_A-m_B)/(np.sqrt((n_A-1)*s_A + (n_B-1)*s_B)) * np.sqrt((n_A+n_B-2)/((1/n_A)+(1/n_B)))"
   ]
  },
  {
   "cell_type": "markdown",
   "metadata": {},
   "source": [
    "We also define a function to calculate the Welch's t-test according to ([2](#mjx-eqn-eq:welchtest))."
   ]
  },
  {
   "cell_type": "code",
   "execution_count": 3,
   "metadata": {},
   "outputs": [],
   "source": [
    "def tValueWelch(A, B):\n",
    "    n_A = len(A)\n",
    "    n_B = len(B)\n",
    "    m_A = A.mean()\n",
    "    m_B = B.mean()\n",
    "    s_A = A.var(ddof = 1)\n",
    "    s_B = B.var(ddof = 1)\n",
    "    \n",
    "    return (m_A-m_B)/(np.sqrt(s_A/n_A + s_B/n_B))"
   ]
  },
  {
   "cell_type": "markdown",
   "metadata": {},
   "source": [
    "To calculate the p-value we use the implementation of [Student's t distribution](#https://docs.scipy.org/doc/scipy/reference/generated/scipy.stats.t.html) in the module ``stats`` of the SciPy package."
   ]
  },
  {
   "cell_type": "code",
   "execution_count": 4,
   "metadata": {},
   "outputs": [],
   "source": [
    "from scipy import stats"
   ]
  },
  {
   "cell_type": "markdown",
   "metadata": {},
   "source": [
    "This makes the code to ([3](#mjx-eqn-eq:pvalue)) look like this:"
   ]
  },
  {
   "cell_type": "code",
   "execution_count": 5,
   "metadata": {},
   "outputs": [],
   "source": [
    "def tpValue(t, nu):\n",
    "    return 2*(1-stats.t.cdf(abs(t), nu))"
   ]
  },
  {
   "cell_type": "markdown",
   "metadata": {},
   "source": [
    "After all we combine the two function to a single one which gives a the test statistic and the p-value for two samples $A$ and $B$."
   ]
  },
  {
   "cell_type": "code",
   "execution_count": 6,
   "metadata": {},
   "outputs": [],
   "source": [
    "def tTest(A, B):\n",
    "    return tValue(A, B), tpValue(tValue(A, B), len(A)+len(B)-2)\n",
    "\n",
    "def WelchtTest(A, B):\n",
    "    return tValueWelch(A, B), tpValue(tValueWelch(A, B), len(A)+len(B)-2)"
   ]
  },
  {
   "cell_type": "markdown",
   "metadata": {},
   "source": [
    "### SciPy implementation<a class=\"anchor\" id=\"arithmetic_scipy\"></a>\n",
    "While the own implementation is helpful for learning purposes, there is also an out of the box solution in the SciPy package [[10]](#virtanen2020). The [function ``ttest_ind()``](#https://docs.scipy.org/doc/scipy/reference/generated/scipy.stats.ttest_ind.html) calculates test statistic and p-value in a two-sided test for the null hypothesis that two unpaired samples have identical expected values."
   ]
  },
  {
   "cell_type": "code",
   "execution_count": 7,
   "metadata": {},
   "outputs": [
    {
     "data": {
      "text/plain": [
       "Ttest_indResult(statistic=0.029365614959845927, pvalue=0.9766025739936632)"
      ]
     },
     "execution_count": 7,
     "metadata": {},
     "output_type": "execute_result"
    }
   ],
   "source": [
    "# Example: Two samples of random numbers, normally distributed\n",
    "A = stats.norm.rvs(loc = 0, scale = 1, size = 100)\n",
    "B = stats.norm.rvs(loc = 0, scale = 1, size = 100)\n",
    "stats.ttest_ind(A, B)"
   ]
  },
  {
   "cell_type": "code",
   "execution_count": 8,
   "metadata": {},
   "outputs": [
    {
     "data": {
      "text/plain": [
       "(0.029365614959845923, 0.9766025739936635)"
      ]
     },
     "execution_count": 8,
     "metadata": {},
     "output_type": "execute_result"
    }
   ],
   "source": [
    "# Check the result of our own implementation\n",
    "tTest(A, B)"
   ]
  },
  {
   "cell_type": "markdown",
   "metadata": {},
   "source": [
    "In order to perform a Welch's t-test, the parameter ``equal_var`` has to be set to ``False``."
   ]
  },
  {
   "cell_type": "code",
   "execution_count": 9,
   "metadata": {},
   "outputs": [
    {
     "name": "stdout",
     "output_type": "stream",
     "text": [
      "Result t-test:         Ttest_indResult(statistic=0.16224118420345374, pvalue=0.8711707334728814)\n",
      "Result Welch's t-test: Ttest_indResult(statistic=0.3440587883785998, pvalue=0.7309261297944623)\n"
     ]
    }
   ],
   "source": [
    "# Example: Two samples of random numbers, normally distributed, different variances and sizes\n",
    "A = stats.norm.rvs(loc = 10, scale = 1, size = 100)\n",
    "B = stats.norm.rvs(loc = 10, scale = 7, size = 500)\n",
    "print('Result t-test:         ' + str(stats.ttest_ind(A, B)))\n",
    "print('Result Welch\\'s t-test: ' + str(stats.ttest_ind(A, B, equal_var = False)))"
   ]
  },
  {
   "cell_type": "code",
   "execution_count": 10,
   "metadata": {},
   "outputs": [
    {
     "name": "stdout",
     "output_type": "stream",
     "text": [
      "Result t-test:         (0.16224118420345376, 0.8711707334728813)\n",
      "Result Welch's t-test: (0.3440587883785998, 0.7309230218886178)\n"
     ]
    }
   ],
   "source": [
    "# Check the result of our own implementation\n",
    "print('Result t-test:         ' + str(tTest(A, B)))\n",
    "print('Result Welch\\'s t-test: ' + str(WelchtTest(A, B)))"
   ]
  },
  {
   "cell_type": "markdown",
   "metadata": {},
   "source": [
    "## Study of model cases<a class=\"anchor\" id=\"study\"></a>\n",
    "In the following, data sets will be evaluated in the sense of an A/B test. Since corresponding data is not always available, the data sets used below show at least two groups with different behavior, but which were not originally created as an A/B test. However, we pretend that an A/B test has been performed and we will now identify the favorable option. We set the significance level to $\\alpha = 0.05$ in all cases.\n",
    "\n",
    "Additionally, we make use of the packages ``pandas`` and ``matplotlib``."
   ]
  },
  {
   "cell_type": "code",
   "execution_count": 11,
   "metadata": {},
   "outputs": [],
   "source": [
    "import pandas as pd\n",
    "import matplotlib.pyplot as plt\n",
    "%matplotlib inline"
   ]
  },
  {
   "cell_type": "markdown",
   "metadata": {},
   "source": [
    "<hr>"
   ]
  },
  {
   "cell_type": "markdown",
   "metadata": {},
   "source": [
    "<a class=\"anchor\" id=\"study_supermarket\"></a>\n",
    "<div style=\"width:image width px; font-size:75%; text-align:right;\">\n",
    "    <img src=\"img/supermarket_neonbrand_unsplash.jpg\" width=\"width\" height=\"height\" style=\"padding-bottom:0.2em;\" />\n",
    "    <figcaption>Photo by NeONBRAND on Unsplash</figcaption>\n",
    "</div>\n",
    "\n",
    "### Supermarket\n",
    "**Pretended case:** In a supermarket, two groups of customers have received a different service (We do not define further in which way, such as personal greetings or similar). One group are <span style=\"color:#003f7e\">registered customers</span> (hereafter also called <span style=\"color:#003f7e\">blue group</span>), i.e. members who have experienced a new service offering. The other group of <span style=\"color:#821626\">normal buyers</span> is the control group (hereafter also called <span style=\"color:#821626\">red group</span>), with the current standard of service. For the two groups, both goods and their prices are the same. The two service levels have been tested over different locations and the customers' shopping experience has been evaluated (rating).\n",
    "\n",
    "**Question: Does the changed service have a positive effect on customer satisfaction and sales figures and should it therefore be introduced across all markets?**\n",
    "\n",
    "**Source:** Pyae, A. (2019). Supermarket sales, Historical record of sales data in 3 different supermarkets. *Kaggle*. Retrieved 2020/04/07 from https://www.kaggle.com/aungpyaeap/supermarket-sales"
   ]
  },
  {
   "cell_type": "markdown",
   "metadata": {},
   "source": [
    "#### Data import and column selection\n",
    "First, the data is imported as a pandas ``DataFrame`` and a selection of columns is made that is appropriate for the pretense."
   ]
  },
  {
   "cell_type": "code",
   "execution_count": 12,
   "metadata": {},
   "outputs": [
    {
     "data": {
      "text/html": [
       "<div>\n",
       "<style scoped>\n",
       "    .dataframe tbody tr th:only-of-type {\n",
       "        vertical-align: middle;\n",
       "    }\n",
       "\n",
       "    .dataframe tbody tr th {\n",
       "        vertical-align: top;\n",
       "    }\n",
       "\n",
       "    .dataframe thead th {\n",
       "        text-align: right;\n",
       "    }\n",
       "</style>\n",
       "<table border=\"1\" class=\"dataframe\">\n",
       "  <thead>\n",
       "    <tr style=\"text-align: right;\">\n",
       "      <th></th>\n",
       "      <th>Invoice ID</th>\n",
       "      <th>Branch</th>\n",
       "      <th>City</th>\n",
       "      <th>Customer type</th>\n",
       "      <th>Gender</th>\n",
       "      <th>Product line</th>\n",
       "      <th>Unit price</th>\n",
       "      <th>Quantity</th>\n",
       "      <th>Tax 5%</th>\n",
       "      <th>Total</th>\n",
       "      <th>Date</th>\n",
       "      <th>Time</th>\n",
       "      <th>Payment</th>\n",
       "      <th>cogs</th>\n",
       "      <th>gross margin percentage</th>\n",
       "      <th>gross income</th>\n",
       "      <th>Rating</th>\n",
       "    </tr>\n",
       "  </thead>\n",
       "  <tbody>\n",
       "    <tr>\n",
       "      <td>103</td>\n",
       "      <td>212-62-1842</td>\n",
       "      <td>A</td>\n",
       "      <td>Yangon</td>\n",
       "      <td>Normal</td>\n",
       "      <td>Male</td>\n",
       "      <td>Food and beverages</td>\n",
       "      <td>58.26</td>\n",
       "      <td>6</td>\n",
       "      <td>17.4780</td>\n",
       "      <td>367.0380</td>\n",
       "      <td>3/28/2019</td>\n",
       "      <td>16:44</td>\n",
       "      <td>Cash</td>\n",
       "      <td>349.56</td>\n",
       "      <td>4.761905</td>\n",
       "      <td>17.4780</td>\n",
       "      <td>9.9</td>\n",
       "    </tr>\n",
       "    <tr>\n",
       "      <td>420</td>\n",
       "      <td>266-76-6436</td>\n",
       "      <td>C</td>\n",
       "      <td>Naypyitaw</td>\n",
       "      <td>Member</td>\n",
       "      <td>Female</td>\n",
       "      <td>Food and beverages</td>\n",
       "      <td>38.60</td>\n",
       "      <td>3</td>\n",
       "      <td>5.7900</td>\n",
       "      <td>121.5900</td>\n",
       "      <td>3/28/2019</td>\n",
       "      <td>13:57</td>\n",
       "      <td>Ewallet</td>\n",
       "      <td>115.80</td>\n",
       "      <td>4.761905</td>\n",
       "      <td>5.7900</td>\n",
       "      <td>7.5</td>\n",
       "    </tr>\n",
       "    <tr>\n",
       "      <td>854</td>\n",
       "      <td>160-22-2687</td>\n",
       "      <td>A</td>\n",
       "      <td>Yangon</td>\n",
       "      <td>Member</td>\n",
       "      <td>Female</td>\n",
       "      <td>Health and beauty</td>\n",
       "      <td>95.95</td>\n",
       "      <td>5</td>\n",
       "      <td>23.9875</td>\n",
       "      <td>503.7375</td>\n",
       "      <td>1/23/2019</td>\n",
       "      <td>14:21</td>\n",
       "      <td>Ewallet</td>\n",
       "      <td>479.75</td>\n",
       "      <td>4.761905</td>\n",
       "      <td>23.9875</td>\n",
       "      <td>8.8</td>\n",
       "    </tr>\n",
       "    <tr>\n",
       "      <td>811</td>\n",
       "      <td>380-60-5336</td>\n",
       "      <td>A</td>\n",
       "      <td>Yangon</td>\n",
       "      <td>Normal</td>\n",
       "      <td>Female</td>\n",
       "      <td>Electronic accessories</td>\n",
       "      <td>40.26</td>\n",
       "      <td>10</td>\n",
       "      <td>20.1300</td>\n",
       "      <td>422.7300</td>\n",
       "      <td>2/24/2019</td>\n",
       "      <td>18:06</td>\n",
       "      <td>Credit card</td>\n",
       "      <td>402.60</td>\n",
       "      <td>4.761905</td>\n",
       "      <td>20.1300</td>\n",
       "      <td>5.0</td>\n",
       "    </tr>\n",
       "    <tr>\n",
       "      <td>833</td>\n",
       "      <td>528-14-9470</td>\n",
       "      <td>A</td>\n",
       "      <td>Yangon</td>\n",
       "      <td>Member</td>\n",
       "      <td>Male</td>\n",
       "      <td>Health and beauty</td>\n",
       "      <td>91.30</td>\n",
       "      <td>1</td>\n",
       "      <td>4.5650</td>\n",
       "      <td>95.8650</td>\n",
       "      <td>2/14/2019</td>\n",
       "      <td>14:42</td>\n",
       "      <td>Ewallet</td>\n",
       "      <td>91.30</td>\n",
       "      <td>4.761905</td>\n",
       "      <td>4.5650</td>\n",
       "      <td>9.2</td>\n",
       "    </tr>\n",
       "  </tbody>\n",
       "</table>\n",
       "</div>"
      ],
      "text/plain": [
       "      Invoice ID Branch       City Customer type  Gender  \\\n",
       "103  212-62-1842      A     Yangon        Normal    Male   \n",
       "420  266-76-6436      C  Naypyitaw        Member  Female   \n",
       "854  160-22-2687      A     Yangon        Member  Female   \n",
       "811  380-60-5336      A     Yangon        Normal  Female   \n",
       "833  528-14-9470      A     Yangon        Member    Male   \n",
       "\n",
       "               Product line  Unit price  Quantity   Tax 5%     Total  \\\n",
       "103      Food and beverages       58.26         6  17.4780  367.0380   \n",
       "420      Food and beverages       38.60         3   5.7900  121.5900   \n",
       "854       Health and beauty       95.95         5  23.9875  503.7375   \n",
       "811  Electronic accessories       40.26        10  20.1300  422.7300   \n",
       "833       Health and beauty       91.30         1   4.5650   95.8650   \n",
       "\n",
       "          Date   Time      Payment    cogs  gross margin percentage  \\\n",
       "103  3/28/2019  16:44         Cash  349.56                 4.761905   \n",
       "420  3/28/2019  13:57      Ewallet  115.80                 4.761905   \n",
       "854  1/23/2019  14:21      Ewallet  479.75                 4.761905   \n",
       "811  2/24/2019  18:06  Credit card  402.60                 4.761905   \n",
       "833  2/14/2019  14:42      Ewallet   91.30                 4.761905   \n",
       "\n",
       "     gross income  Rating  \n",
       "103       17.4780     9.9  \n",
       "420        5.7900     7.5  \n",
       "854       23.9875     8.8  \n",
       "811       20.1300     5.0  \n",
       "833        4.5650     9.2  "
      ]
     },
     "execution_count": 12,
     "metadata": {},
     "output_type": "execute_result"
    }
   ],
   "source": [
    "df_supermarket = pd.read_csv('dat/supermarket/supermarket.csv')\n",
    "df_supermarket.sample(5)"
   ]
  },
  {
   "cell_type": "markdown",
   "metadata": {},
   "source": [
    "Of central importance are the columns ``Customer type`` for the test and control group as well as the columns for the total price of the purchase ``Total`` and the customer satisfaction ``Rating``.\n",
    "\n",
    "Furthermore, we consider the following columns to make the case more vivid/realistic. These columns are therefore also included:\n",
    "* ``Branch``\n",
    "* ``Gender``\n",
    "* ``Product line``\n",
    "* ``Payment``\n",
    "* ``Rating``\n",
    "\n",
    "We will not use the ``Invoice ID`` because no purchase identified by an individual ID contains multiple products in this sample. To do this, we will check the length of the dataset with the number of unique IDs."
   ]
  },
  {
   "cell_type": "code",
   "execution_count": 13,
   "metadata": {},
   "outputs": [
    {
     "name": "stdout",
     "output_type": "stream",
     "text": [
      "IDs contain only one row with one individual product. Please proceed!\n"
     ]
    }
   ],
   "source": [
    "if (len(df_supermarket['Invoice ID'].unique()) == len(df_supermarket['Invoice ID'])):\n",
    "    print('IDs contain only one row with one individual product. Please proceed!')\n",
    "else:\n",
    "    print('IDs can contain more than one individual item. Please aggregate the data.')"
   ]
  },
  {
   "cell_type": "markdown",
   "metadata": {},
   "source": [
    "The ``Customer type`` column should contain only two groups (we want to apply the t-test, not an analysis of variance) and the columns for the total purchase price ``Total`` and the customer satisfaction ``Rating`` should contain numerical values. We check that this is the case."
   ]
  },
  {
   "cell_type": "code",
   "execution_count": 14,
   "metadata": {},
   "outputs": [
    {
     "name": "stdout",
     "output_type": "stream",
     "text": [
      "There are only two groups ['Member' 'Normal'] as demanded.\n",
      "There are 501 members in the dataset.\n",
      "There are 499 normal buyers in the dataset.\n",
      "The considered objective columns are numeric (float64). Please proceed!\n",
      "Invoice ID                 0\n",
      "Branch                     0\n",
      "City                       0\n",
      "Customer type              0\n",
      "Gender                     0\n",
      "Product line               0\n",
      "Unit price                 0\n",
      "Quantity                   0\n",
      "Tax 5%                     0\n",
      "Total                      0\n",
      "Date                       0\n",
      "Time                       0\n",
      "Payment                    0\n",
      "cogs                       0\n",
      "gross margin percentage    0\n",
      "gross income               0\n",
      "Rating                     0\n",
      "dtype: int64\n"
     ]
    }
   ],
   "source": [
    "if (len(df_supermarket['Customer type'].unique()) == 2):\n",
    "    print('There are only two groups ' + str(df_supermarket['Customer type'].unique()) + ' as demanded.')\n",
    "else:\n",
    "    print('There are not exactly two groups! Please check the data.')\n",
    "    \n",
    "print('There are ' + str(len(df_supermarket[df_supermarket['Customer type'] == 'Member'])) + ' members in the dataset.')\n",
    "print('There are ' + str(len(df_supermarket[df_supermarket['Customer type'] == 'Normal'])) + ' normal buyers in the dataset.')\n",
    "\n",
    "if ((df_supermarket['Total'].dtype == 'float64') & (df_supermarket['Rating'].dtype == 'float64')):\n",
    "    print('The considered objective columns are numeric (float64). Please proceed!')\n",
    "else:\n",
    "    print('Check the type of the objective columns.')\n",
    "    \n",
    "print(df_supermarket.isnull().sum())"
   ]
  },
  {
   "cell_type": "markdown",
   "metadata": {},
   "source": [
    "As we can see, there are only the test and control group. The sizes of the group are almost equal. Furthermore, the measurands are floats and there is no missing data."
   ]
  },
  {
   "cell_type": "markdown",
   "metadata": {},
   "source": [
    "#### Total purchase price\n",
    "We start by looking at the distribution of the total purchase price as a histogram for the two groups. For the sake of simplicity, we inspect here purely from a visual point of view using the histogram and do not further quantify the similarity."
   ]
  },
  {
   "cell_type": "code",
   "execution_count": 15,
   "metadata": {},
   "outputs": [
    {
     "data": {
      "image/png": "[encoded data removed]",
      "text/plain": [
       "<Figure size 1152x648 with 1 Axes>"
      ]
     },
     "metadata": {
      "needs_background": "light"
     },
     "output_type": "display_data"
    }
   ],
   "source": [
    "plt.figure(figsize=(16, 9))\n",
    "plt.hist(df_supermarket[df_supermarket['Customer type'] == 'Member']['Total'],\n",
    "         alpha = 0.4, bins = 30, color = '#003f7e')                                 # members = blue group\n",
    "plt.hist(df_supermarket[df_supermarket['Customer type'] == 'Normal']['Total'],\n",
    "         alpha = 0.4, bins = 30, color = '#821626')                                 # members = red group\n",
    "plt.xlabel(\"Purchase price 'Total'\", size = 12)\n",
    "plt.ylabel(\"Count\", size = 12)\n",
    "plt.title(\"Histogram of total purchase prices\")\n",
    "plt.show()"
   ]
  },
  {
   "cell_type": "code",
   "execution_count": 16,
   "metadata": {},
   "outputs": [
    {
     "name": "stdout",
     "output_type": "stream",
     "text": [
      "Mean of members: 327.7913053892216\n",
      "Mean of normals: 318.122855711423\n"
     ]
    }
   ],
   "source": [
    "print('Mean of members: ' + str(df_supermarket[df_supermarket['Customer type'] == 'Member']['Total'].mean()))\n",
    "print('Mean of normals: ' + str(df_supermarket[df_supermarket['Customer type'] == 'Normal']['Total'].mean()))"
   ]
  },
  {
   "cell_type": "markdown",
   "metadata": {},
   "source": [
    "We can see that the distributions of the dependent variable ``Total`` are not normally distributed, rather left-skewed, and therefore violate one of the preconditions. However, as described [earlier](#violation), we rely on the robustness of the t-test and proceed. The means differ a bit, so we can check whether this difference is due to the group and therefore service level."
   ]
  },
  {
   "cell_type": "code",
   "execution_count": 17,
   "metadata": {},
   "outputs": [
    {
     "name": "stdout",
     "output_type": "stream",
     "text": [
      "Variance of members: 61500.91580485452\n",
      "Variance of normals: 59488.5760661809\n"
     ]
    }
   ],
   "source": [
    "print('Variance of members: ' + str(df_supermarket[df_supermarket['Customer type'] == 'Member']['Total'].var()))\n",
    "print('Variance of normals: ' + str(df_supermarket[df_supermarket['Customer type'] == 'Normal']['Total'].var()))"
   ]
  },
  {
   "cell_type": "markdown",
   "metadata": {},
   "source": [
    "The variances are quite similar, so we stick with the t-test. The hypothesis are:\n",
    "* **Null hypothesis $H_0$: There is no difference between members and normal buyers in terms of total purchase price.**\n",
    "* **Alternative hypothesis $H_1$: The difference in the total purchase price sample means results from a different behavior of the two groups and is not random.**"
   ]
  },
  {
   "cell_type": "code",
   "execution_count": 18,
   "metadata": {},
   "outputs": [
    {
     "data": {
      "text/plain": [
       "Ttest_indResult(statistic=0.6215268724928228, pvalue=0.5343949596143621)"
      ]
     },
     "execution_count": 18,
     "metadata": {},
     "output_type": "execute_result"
    }
   ],
   "source": [
    "stats.ttest_ind(df_supermarket[df_supermarket['Customer type'] == 'Member']['Total'],\n",
    "                df_supermarket[df_supermarket['Customer type'] == 'Normal']['Total'])"
   ]
  },
  {
   "cell_type": "markdown",
   "metadata": {},
   "source": [
    "With a probability value of $p \\approx 0.534$, our chosen significance level $\\alpha = 0.05$ has been clearly exceeded. The null hypothesis can therefore not be rejected."
   ]
  },
  {
   "cell_type": "markdown",
   "metadata": {},
   "source": [
    "#### Rating\n",
    "Our second dependent variable is customer satisfaction, the ``Rating`` attribute. Again, we look at the distribution of ratings across the two groups."
   ]
  },
  {
   "cell_type": "code",
   "execution_count": 19,
   "metadata": {},
   "outputs": [
    {
     "data": {
      "image/png": "[encoded data removed]",
      "text/plain": [
       "<Figure size 1152x648 with 1 Axes>"
      ]
     },
     "metadata": {
      "needs_background": "light"
     },
     "output_type": "display_data"
    }
   ],
   "source": [
    "plt.figure(figsize=(16, 9))\n",
    "plt.hist(df_supermarket[df_supermarket['Customer type'] == 'Member']['Rating'],\n",
    "         alpha = 0.4, bins = 30, color = '#003f7e')                                 # members = blue group\n",
    "plt.hist(df_supermarket[df_supermarket['Customer type'] == 'Normal']['Rating'],\n",
    "         alpha = 0.4, bins = 30, color = '#821626')                                 # members = red group\n",
    "plt.xlabel(\"Customer satisfaction 'Rating'\", size = 12)\n",
    "plt.ylabel(\"Count\", size = 12)\n",
    "plt.title(\"Histogram of ratings\")\n",
    "plt.show()"
   ]
  },
  {
   "cell_type": "code",
   "execution_count": 20,
   "metadata": {},
   "outputs": [
    {
     "name": "stdout",
     "output_type": "stream",
     "text": [
      "Mean of members: 6.940319361277447\n",
      "Mean of normals: 7.005210420841684\n",
      "Variance of members: 3.060331097804394\n",
      "Variance of normals: 2.850093278927331\n"
     ]
    }
   ],
   "source": [
    "print('Mean of members: ' + str(df_supermarket[df_supermarket['Customer type'] == 'Member']['Rating'].mean()))\n",
    "print('Mean of normals: ' + str(df_supermarket[df_supermarket['Customer type'] == 'Normal']['Rating'].mean()))\n",
    "print('Variance of members: ' + str(df_supermarket[df_supermarket['Customer type'] == 'Member']['Rating'].var()))\n",
    "print('Variance of normals: ' + str(df_supermarket[df_supermarket['Customer type'] == 'Normal']['Rating'].var()))"
   ]
  },
  {
   "cell_type": "markdown",
   "metadata": {},
   "source": [
    "So, the distributions do not follow the normal distribution, but we proceed again as above already explained. The average values only differs to a limited extent - and on top with a lower satisfaction value for members. Nevertheless, we check for significance here also. The difference in variance does not cause us to drop t-test. The hypothesis are:\n",
    "* **Null hypothesis $H_0$: There is no difference between members and normal buyers in terms of customer satisfaction.**\n",
    "* **Alternative hypothesis $H_1$: The difference in the sample means of the satisfaction rating results from a different customer experience of the two groups and is not random.**"
   ]
  },
  {
   "cell_type": "code",
   "execution_count": 21,
   "metadata": {},
   "outputs": [
    {
     "name": "stdout",
     "output_type": "stream",
     "text": [
      "Ttest_indResult(statistic=-0.5968211265254104, pvalue=0.5507621727856713)\n"
     ]
    }
   ],
   "source": [
    "print(stats.ttest_ind(df_supermarket[df_supermarket['Customer type'] == 'Member']['Rating'],\n",
    "                      df_supermarket[df_supermarket['Customer type'] == 'Normal']['Rating']))"
   ]
  },
  {
   "cell_type": "markdown",
   "metadata": {},
   "source": [
    "Again, with $p = $0.551$, the selected significance level is surpassed. The null hypothesis cannot be rejected."
   ]
  },
  {
   "cell_type": "markdown",
   "metadata": {},
   "source": [
    "#### Conclusion\n",
    "If we look at our initial question (*Does the changed service have a positive effect on customer satisfaction and sales figures and should it therefore be introduced across all markets?*) with regard to the tests just completed, we can state that in the (pretended) case no significant change/improvement could be observed due to the newly introduced service level. Therefore, at least on the basis of this data, we cannot recommend a launch across all markets."
   ]
  },
  {
   "cell_type": "markdown",
   "metadata": {},
   "source": [
    "<hr>"
   ]
  },
  {
   "cell_type": "markdown",
   "metadata": {},
   "source": [
    "<a class=\"anchor\" id=\"study_wholesale\"></a>\n",
    "<div style=\"width:image width px; font-size:75%; text-align:right;\">\n",
    "    <img src=\"img/wholesale_michael-jasmund_unsplash.jpg\" width=\"width\" height=\"height\" style=\"padding-bottom:0.2em;\" />\n",
    "    <figcaption>Photo by Michael Jasmund on Unsplash</figcaption>\n",
    "</div>\n",
    "\n",
    "### Wholesale\n",
    "**Pretended case:** In a wholesale company there are two groups of customers: professional HoReCa which are hotels, restaurant owners, and caterers (hereafter also called <span style=\"color:#003f7e\">blue group</span>) and retail customers (hereafter also called <span style=\"color:#821626\">red group</span>). The respective group is assigned a separate entrance to the stores. All other conditions are the same, such as prices, service levels etc. It should be checked whether the different entrances lead to different sales figures in the departments.\n",
    "\n",
    "**Question: Does the different entrance to the market cause a different buying behavior and if so, which positioning of the entrance is sales-promoting?**\n",
    "\n",
    "**Source:** Shekhar, R. (2018). Wholesale customers Data Set, Annual spending in monetary units of clients of a wholesale distributor. *Kaggle*. Retrieved 2020/04/07 from https://www.kaggle.com/binovi/wholesale-customers-data-set"
   ]
  },
  {
   "cell_type": "markdown",
   "metadata": {},
   "source": [
    "#### Data import and column selection\n",
    "First, the data is imported as a pandas ``DataFrame`` and a selection of columns is made that is appropriate for the pretense."
   ]
  },
  {
   "cell_type": "code",
   "execution_count": 22,
   "metadata": {},
   "outputs": [
    {
     "data": {
      "text/html": [
       "<div>\n",
       "<style scoped>\n",
       "    .dataframe tbody tr th:only-of-type {\n",
       "        vertical-align: middle;\n",
       "    }\n",
       "\n",
       "    .dataframe tbody tr th {\n",
       "        vertical-align: top;\n",
       "    }\n",
       "\n",
       "    .dataframe thead th {\n",
       "        text-align: right;\n",
       "    }\n",
       "</style>\n",
       "<table border=\"1\" class=\"dataframe\">\n",
       "  <thead>\n",
       "    <tr style=\"text-align: right;\">\n",
       "      <th></th>\n",
       "      <th>Channel</th>\n",
       "      <th>Fresh</th>\n",
       "      <th>Milk</th>\n",
       "      <th>Grocery</th>\n",
       "      <th>Frozen</th>\n",
       "      <th>Detergents_Paper</th>\n",
       "      <th>Delicassen</th>\n",
       "    </tr>\n",
       "  </thead>\n",
       "  <tbody>\n",
       "    <tr>\n",
       "      <td>15</td>\n",
       "      <td>1</td>\n",
       "      <td>10253</td>\n",
       "      <td>1114</td>\n",
       "      <td>3821</td>\n",
       "      <td>397</td>\n",
       "      <td>964</td>\n",
       "      <td>412</td>\n",
       "    </tr>\n",
       "    <tr>\n",
       "      <td>177</td>\n",
       "      <td>1</td>\n",
       "      <td>12759</td>\n",
       "      <td>7330</td>\n",
       "      <td>4533</td>\n",
       "      <td>1752</td>\n",
       "      <td>20</td>\n",
       "      <td>2631</td>\n",
       "    </tr>\n",
       "    <tr>\n",
       "      <td>221</td>\n",
       "      <td>1</td>\n",
       "      <td>5396</td>\n",
       "      <td>7503</td>\n",
       "      <td>10646</td>\n",
       "      <td>91</td>\n",
       "      <td>4167</td>\n",
       "      <td>239</td>\n",
       "    </tr>\n",
       "    <tr>\n",
       "      <td>133</td>\n",
       "      <td>1</td>\n",
       "      <td>9434</td>\n",
       "      <td>1042</td>\n",
       "      <td>1235</td>\n",
       "      <td>436</td>\n",
       "      <td>256</td>\n",
       "      <td>396</td>\n",
       "    </tr>\n",
       "    <tr>\n",
       "      <td>358</td>\n",
       "      <td>1</td>\n",
       "      <td>759</td>\n",
       "      <td>18664</td>\n",
       "      <td>1660</td>\n",
       "      <td>6114</td>\n",
       "      <td>536</td>\n",
       "      <td>4100</td>\n",
       "    </tr>\n",
       "  </tbody>\n",
       "</table>\n",
       "</div>"
      ],
      "text/plain": [
       "     Channel  Fresh   Milk  Grocery  Frozen  Detergents_Paper  Delicassen\n",
       "15         1  10253   1114     3821     397               964         412\n",
       "177        1  12759   7330     4533    1752                20        2631\n",
       "221        1   5396   7503    10646      91              4167         239\n",
       "133        1   9434   1042     1235     436               256         396\n",
       "358        1    759  18664     1660    6114               536        4100"
      ]
     },
     "execution_count": 22,
     "metadata": {},
     "output_type": "execute_result"
    }
   ],
   "source": [
    "df_wholesale = pd.read_csv('dat/wholesale/wholesale.csv')\n",
    "df_wholesale.drop(['Region'], axis = 1, inplace = True)\n",
    "df_wholesale.sample(5)"
   ]
  },
  {
   "cell_type": "markdown",
   "metadata": {},
   "source": [
    "The dependent variables are ``Fresh`` to ``Delicassen`` [sic, author's note: We write \"delicatessen\" in the text and keep the attribute name] and the independet test and control group is assigned as ``Channel`` with <span style=\"color:#003f7e\">HoReCa = 1</span> and <span style=\"color:#821626\">Retail = 2</span>. The attribute ``Region`` is not of interest and is deleted"
   ]
  },
  {
   "cell_type": "code",
   "execution_count": 23,
   "metadata": {},
   "outputs": [
    {
     "name": "stdout",
     "output_type": "stream",
     "text": [
      "There are only two groups [2 1] as demanded.\n",
      "There are 298 HoReCa customers in the dataset.\n",
      "There are 142 retail customers in the dataset.\n",
      "The considered objective columns are numeric (int64). Please proceed!\n",
      "Channel             0\n",
      "Fresh               0\n",
      "Milk                0\n",
      "Grocery             0\n",
      "Frozen              0\n",
      "Detergents_Paper    0\n",
      "Delicassen          0\n",
      "dtype: int64\n"
     ]
    }
   ],
   "source": [
    "if (len(df_wholesale['Channel'].unique()) == 2):\n",
    "    print('There are only two groups ' + str(df_wholesale['Channel'].unique()) + ' as demanded.')\n",
    "else:\n",
    "    print('There are not exactly two groups! Please check the data.')\n",
    "    \n",
    "print('There are ' + str(len(df_wholesale[df_wholesale['Channel'] == 1])) + ' HoReCa customers in the dataset.')\n",
    "print('There are ' + str(len(df_wholesale[df_wholesale['Channel'] == 2])) + ' retail customers in the dataset.')\n",
    "\n",
    "if ((df_wholesale['Fresh'].dtype == 'int64') &\n",
    "    (df_wholesale['Milk'].dtype == 'int64') &\n",
    "    (df_wholesale['Grocery'].dtype == 'int64') &\n",
    "    (df_wholesale['Frozen'].dtype == 'int64') &\n",
    "    (df_wholesale['Detergents_Paper'].dtype == 'int64') &\n",
    "    (df_wholesale['Delicassen'].dtype == 'int64')\n",
    "   ):\n",
    "    print('The considered objective columns are numeric (int64). Please proceed!')\n",
    "else:\n",
    "    print('Check the type of the objective columns.')\n",
    "    \n",
    "print(df_wholesale.isnull().sum())"
   ]
  },
  {
   "cell_type": "markdown",
   "metadata": {},
   "source": [
    "We can see that the test and control group are the only channels, albeit in varying numbers. Moreover, the measurands are integers and there is no missing data."
   ]
  },
  {
   "cell_type": "markdown",
   "metadata": {},
   "source": [
    "#### Sample means, variances and distributions"
   ]
  },
  {
   "cell_type": "code",
   "execution_count": 24,
   "metadata": {},
   "outputs": [
    {
     "data": {
      "text/html": [
       "<div>\n",
       "<style scoped>\n",
       "    .dataframe tbody tr th:only-of-type {\n",
       "        vertical-align: middle;\n",
       "    }\n",
       "\n",
       "    .dataframe tbody tr th {\n",
       "        vertical-align: top;\n",
       "    }\n",
       "\n",
       "    .dataframe thead th {\n",
       "        text-align: right;\n",
       "    }\n",
       "</style>\n",
       "<table border=\"1\" class=\"dataframe\">\n",
       "  <thead>\n",
       "    <tr style=\"text-align: right;\">\n",
       "      <th></th>\n",
       "      <th>0</th>\n",
       "      <th>1</th>\n",
       "    </tr>\n",
       "  </thead>\n",
       "  <tbody>\n",
       "    <tr>\n",
       "      <td>Channel</td>\n",
       "      <td>1.000000</td>\n",
       "      <td>2.000000</td>\n",
       "    </tr>\n",
       "    <tr>\n",
       "      <td>Fresh</td>\n",
       "      <td>13475.560403</td>\n",
       "      <td>8904.323944</td>\n",
       "    </tr>\n",
       "    <tr>\n",
       "      <td>Milk</td>\n",
       "      <td>3451.724832</td>\n",
       "      <td>10716.500000</td>\n",
       "    </tr>\n",
       "    <tr>\n",
       "      <td>Grocery</td>\n",
       "      <td>3962.137584</td>\n",
       "      <td>16322.852113</td>\n",
       "    </tr>\n",
       "    <tr>\n",
       "      <td>Frozen</td>\n",
       "      <td>3748.251678</td>\n",
       "      <td>1652.612676</td>\n",
       "    </tr>\n",
       "    <tr>\n",
       "      <td>Detergents_Paper</td>\n",
       "      <td>790.560403</td>\n",
       "      <td>7269.507042</td>\n",
       "    </tr>\n",
       "    <tr>\n",
       "      <td>Delicassen</td>\n",
       "      <td>1415.956376</td>\n",
       "      <td>1753.436620</td>\n",
       "    </tr>\n",
       "  </tbody>\n",
       "</table>\n",
       "</div>"
      ],
      "text/plain": [
       "                             0             1\n",
       "Channel               1.000000      2.000000\n",
       "Fresh             13475.560403   8904.323944\n",
       "Milk               3451.724832  10716.500000\n",
       "Grocery            3962.137584  16322.852113\n",
       "Frozen             3748.251678   1652.612676\n",
       "Detergents_Paper    790.560403   7269.507042\n",
       "Delicassen         1415.956376   1753.436620"
      ]
     },
     "execution_count": 24,
     "metadata": {},
     "output_type": "execute_result"
    }
   ],
   "source": [
    "pd.concat([df_wholesale[df_wholesale.Channel == 1].mean(),\n",
    "           df_wholesale[df_wholesale.Channel == 2].mean()], axis=1)"
   ]
  },
  {
   "cell_type": "code",
   "execution_count": 25,
   "metadata": {},
   "outputs": [
    {
     "data": {
      "text/html": [
       "<div>\n",
       "<style scoped>\n",
       "    .dataframe tbody tr th:only-of-type {\n",
       "        vertical-align: middle;\n",
       "    }\n",
       "\n",
       "    .dataframe tbody tr th {\n",
       "        vertical-align: top;\n",
       "    }\n",
       "\n",
       "    .dataframe thead th {\n",
       "        text-align: right;\n",
       "    }\n",
       "</style>\n",
       "<table border=\"1\" class=\"dataframe\">\n",
       "  <thead>\n",
       "    <tr style=\"text-align: right;\">\n",
       "      <th></th>\n",
       "      <th>0</th>\n",
       "      <th>1</th>\n",
       "    </tr>\n",
       "  </thead>\n",
       "  <tbody>\n",
       "    <tr>\n",
       "      <td>Channel</td>\n",
       "      <td>0.000000e+00</td>\n",
       "      <td>0.000000e+00</td>\n",
       "    </tr>\n",
       "    <tr>\n",
       "      <td>Fresh</td>\n",
       "      <td>1.913156e+08</td>\n",
       "      <td>8.077902e+07</td>\n",
       "    </tr>\n",
       "    <tr>\n",
       "      <td>Milk</td>\n",
       "      <td>1.894135e+07</td>\n",
       "      <td>9.369526e+07</td>\n",
       "    </tr>\n",
       "    <tr>\n",
       "      <td>Grocery</td>\n",
       "      <td>1.257067e+07</td>\n",
       "      <td>1.504871e+08</td>\n",
       "    </tr>\n",
       "    <tr>\n",
       "      <td>Frozen</td>\n",
       "      <td>3.185375e+07</td>\n",
       "      <td>3.286257e+06</td>\n",
       "    </tr>\n",
       "    <tr>\n",
       "      <td>Detergents_Paper</td>\n",
       "      <td>1.219023e+06</td>\n",
       "      <td>3.957781e+07</td>\n",
       "    </tr>\n",
       "    <tr>\n",
       "      <td>Delicassen</td>\n",
       "      <td>9.906296e+06</td>\n",
       "      <td>3.817323e+06</td>\n",
       "    </tr>\n",
       "  </tbody>\n",
       "</table>\n",
       "</div>"
      ],
      "text/plain": [
       "                             0             1\n",
       "Channel           0.000000e+00  0.000000e+00\n",
       "Fresh             1.913156e+08  8.077902e+07\n",
       "Milk              1.894135e+07  9.369526e+07\n",
       "Grocery           1.257067e+07  1.504871e+08\n",
       "Frozen            3.185375e+07  3.286257e+06\n",
       "Detergents_Paper  1.219023e+06  3.957781e+07\n",
       "Delicassen        9.906296e+06  3.817323e+06"
      ]
     },
     "execution_count": 25,
     "metadata": {},
     "output_type": "execute_result"
    }
   ],
   "source": [
    "pd.concat([df_wholesale[df_wholesale.Channel == 1].var(),\n",
    "           df_wholesale[df_wholesale.Channel == 2].var()], axis=1)"
   ]
  },
  {
   "cell_type": "code",
   "execution_count": 26,
   "metadata": {},
   "outputs": [
    {
     "data": {
      "image/png": "[encoded data removed]",
      "text/plain": [
       "<Figure size 1152x648 with 6 Axes>"
      ]
     },
     "metadata": {
      "needs_background": "light"
     },
     "output_type": "display_data"
    }
   ],
   "source": [
    "fig, axs = plt.subplots(2, 3, figsize = (16, 9))\n",
    "axs[0, 0].hist(df_wholesale[df_wholesale.Channel == 1]['Fresh'],\n",
    "                   alpha = 0.4, bins = 30, color = '#003f7e')\n",
    "axs[0, 0].hist(df_wholesale[df_wholesale.Channel == 2]['Fresh'],\n",
    "                   alpha = 0.4, bins = 30, color = '#821626')\n",
    "axs[0, 0].set_title('Fresh')\n",
    "axs[0, 1].hist(df_wholesale[df_wholesale.Channel == 1]['Milk'],\n",
    "                   alpha = 0.4, bins = 30, color = '#003f7e')\n",
    "axs[0, 1].hist(df_wholesale[df_wholesale.Channel == 2]['Milk'],\n",
    "                   alpha = 0.4, bins = 30, color = '#821626')\n",
    "axs[0, 1].set_title('Milk')\n",
    "axs[0, 2].hist(df_wholesale[df_wholesale.Channel == 1]['Grocery'],\n",
    "                   alpha = 0.4, bins = 30, color = '#003f7e')\n",
    "axs[0, 2].hist(df_wholesale[df_wholesale.Channel == 2]['Grocery'],\n",
    "                   alpha = 0.4, bins = 30, color = '#821626')\n",
    "axs[0, 2].set_title('Grocery')\n",
    "axs[1, 0].hist(df_wholesale[df_wholesale.Channel == 1]['Frozen'],\n",
    "                   alpha = 0.4, bins = 30, color = '#003f7e')\n",
    "axs[1, 0].hist(df_wholesale[df_wholesale.Channel == 2]['Frozen'],\n",
    "                   alpha = 0.4, bins = 30, color = '#821626')\n",
    "axs[1, 0].set_title('Frozen')\n",
    "axs[1, 1].hist(df_wholesale[df_wholesale.Channel == 1]['Detergents_Paper'],\n",
    "                   alpha = 0.4, bins = 30, color = '#003f7e')\n",
    "axs[1, 1].hist(df_wholesale[df_wholesale.Channel == 2]['Detergents_Paper'],\n",
    "                   alpha = 0.4, bins = 30, color = '#821626')\n",
    "axs[1, 1].set_title('Detergents and paper')\n",
    "axs[1, 2].hist(df_wholesale[df_wholesale.Channel == 1]['Delicassen'],\n",
    "                   alpha = 0.4, bins = 30, color = '#003f7e')\n",
    "axs[1, 2].hist(df_wholesale[df_wholesale.Channel == 2]['Delicassen'],\n",
    "                   alpha = 0.4, bins = 30, color = '#821626')\n",
    "axs[1, 2].set_title('Delicatessen')\n",
    "\n",
    "for ax in axs.flat:\n",
    "    ax.set(xlabel='annual spending', ylabel='count')\n",
    "\n",
    "# Hide x labels and tick labels for top plots and y ticks for right plots.\n",
    "for ax in axs.flat:\n",
    "    ax.label_outer()"
   ]
  },
  {
   "cell_type": "markdown",
   "metadata": {},
   "source": [
    "The sample means differ in some departments more and in some less. Nevertheless, there is a difference across all products. In addition, the variances are quite substantial and the distributions are not normally distributed. Due to the different sample sizes and the different variances we choose Welch's t-test to check the significance."
   ]
  },
  {
   "cell_type": "markdown",
   "metadata": {},
   "source": [
    "#### Hypothesis testing\n",
    "The hypothesis are:\n",
    "* **Null hypothesis $H_0$: There is no difference in the resulting sales with regard to a different market entry in the mentioned products.**\n",
    "* **Alternative hypothesis $H_1$: The difference in the sample means of the sales turnover results from different market entrances for the two groups and is not random.**"
   ]
  },
  {
   "cell_type": "code",
   "execution_count": 27,
   "metadata": {},
   "outputs": [
    {
     "name": "stdout",
     "output_type": "stream",
     "text": [
      "Fresh:\n",
      "Ttest_indResult(statistic=4.154185080193192, pvalue=3.997523791114204e-05)\n",
      "- - -\n",
      "Milk:\n",
      "Ttest_indResult(statistic=-8.541550659835881, pvalue=7.513432722470988e-15)\n",
      "- - -\n",
      "Grocery:\n",
      "Ttest_indResult(statistic=-11.775037432327998, pvalue=3.623878362357236e-23)\n",
      "- - -\n",
      "Frozen:\n",
      "Ttest_indResult(statistic=5.811487334401299, pvalue=1.2659274764585105e-08)\n",
      "- - -\n",
      "Detergents and paper:\n",
      "Ttest_indResult(statistic=-12.183128559103928, pvalue=5.8093151114456274e-24)\n",
      "- - -\n",
      "Delicatessen:\n",
      "Ttest_indResult(statistic=-1.3763225647039357, pvalue=0.16947545890793167)\n"
     ]
    }
   ],
   "source": [
    "print('Fresh:')\n",
    "print(stats.ttest_ind(df_wholesale[df_wholesale.Channel == 1]['Fresh'],\n",
    "                      df_wholesale[df_wholesale.Channel == 2]['Fresh'],\n",
    "                      equal_var = False))\n",
    "print('- - -')\n",
    "print('Milk:')\n",
    "print(stats.ttest_ind(df_wholesale[df_wholesale.Channel == 1]['Milk'],\n",
    "                      df_wholesale[df_wholesale.Channel == 2]['Milk'],\n",
    "                      equal_var = False))\n",
    "print('- - -')\n",
    "print('Grocery:')\n",
    "print(stats.ttest_ind(df_wholesale[df_wholesale.Channel == 1]['Grocery'],\n",
    "                      df_wholesale[df_wholesale.Channel == 2]['Grocery'],\n",
    "                      equal_var = False))\n",
    "print('- - -')\n",
    "print('Frozen:')\n",
    "print(stats.ttest_ind(df_wholesale[df_wholesale.Channel == 1]['Frozen'],\n",
    "                      df_wholesale[df_wholesale.Channel == 2]['Frozen'],\n",
    "                      equal_var = False))\n",
    "print('- - -')\n",
    "print('Detergents and paper:')\n",
    "print(stats.ttest_ind(df_wholesale[df_wholesale.Channel == 1]['Detergents_Paper'],\n",
    "                      df_wholesale[df_wholesale.Channel == 2]['Detergents_Paper'],\n",
    "                      equal_var = False))\n",
    "print('- - -')\n",
    "print('Delicatessen:')\n",
    "print(stats.ttest_ind(df_wholesale[df_wholesale.Channel == 1]['Delicassen'],\n",
    "                      df_wholesale[df_wholesale.Channel == 2]['Delicassen'],\n",
    "                      equal_var = False))"
   ]
  },
  {
   "cell_type": "markdown",
   "metadata": {},
   "source": [
    "With the exception of the delicatessen sector, the p-value for all other products is below the significance level of $\\alpha = 0.05$. We therefore reject the null hypothesis for these segments and note that the argument that the difference in sales is due to the change in market access has been supported. For delicatessen $p \\approx 0.169$ is above our defined $\\alpha$, so we cannot reject the null hypothesis."
   ]
  },
  {
   "cell_type": "markdown",
   "metadata": {},
   "source": [
    "#### Conclusion\n",
    "Our initial question (Does the different entrance to the market cause a different buying behavior and if so, which positioning of the entrance is sales-promoting?) has to be answered in different ways for the different products:\n",
    "* For Fresh and Frozen the market entry of the <span style=\"color:#003f7e\">channel-1 group</span> seems to be sales-promoting, because there is statistical evidence to reject the null hypothesis.\n",
    "* For Milk, Grocery as well as Detergents and paper the entrance of the <span style=\"color:#821626\">channel-2 group</span> is likely to be boosting sales, due to a justified rejection of the null hypothesis.\n",
    "* For the Delicatessen segment there are no indications that the specific entrance is of relevance.\n",
    "\n",
    "The store managers must now be challenged with this result. Depending on the strategic orientation (sales targets in the segments, etc.) a profound decision regarding market access can be made."
   ]
  },
  {
   "cell_type": "markdown",
   "metadata": {},
   "source": [
    "<hr>"
   ]
  },
  {
   "cell_type": "markdown",
   "metadata": {},
   "source": [
    "## References<a class=\"anchor\" id=\"references\"></a>"
   ]
  },
  {
   "cell_type": "markdown",
   "metadata": {},
   "source": [
    "[1]<a class=\"anchor\" id=\"schaefer2011\"></a> Schäfer, T. (2011). *Statistik II*. VS Verlag für Sozialwissenschaften."
   ]
  },
  {
   "cell_type": "markdown",
   "metadata": {},
   "source": [
    "[2]<a class=\"anchor\" id=\"rasch2004\"></a> Rasch, D., & Guiard, V. (2004). The robustness of parametric statistical methods. *Psychology Science, 46*, 175-208."
   ]
  },
  {
   "cell_type": "markdown",
   "metadata": {},
   "source": [
    "[3]<a class=\"anchor\" id=\"semendjajew2003\"></a> Semendjajew, K.A., Grosche, G., Bronštejn I.N., & Zeidler, E. (Eds.). (2003). *Teubner-Taschenbuch der Mathematik* (Vol. 2). Springer DE."
   ]
  },
  {
   "cell_type": "markdown",
   "metadata": {},
   "source": [
    "[4]<a class=\"anchor\" id=\"kanji2006\"></a> Kanji, G. K. (2006). 100 statistical tests. Sage."
   ]
  },
  {
   "cell_type": "markdown",
   "metadata": {},
   "source": [
    "[5]<a class=\"anchor\" id=\"benesch2012\"></a> Benesch, T. (2012). *Schlüsselkonzepte zur Statistik: die wichtigsten Methoden, Verteilungen, Tests anschaulich erklärt*. Springer-Verlag."
   ]
  },
  {
   "cell_type": "markdown",
   "metadata": {},
   "source": [
    "[6]<a class=\"anchor\" id=\"welch1947\"></a> Welch, B. L. (1947). The generalization ofstudent's' problem when several different population variances are involved. Biometrika, 34(1/2), 28-35."
   ]
  },
  {
   "cell_type": "markdown",
   "metadata": {},
   "source": [
    "[7]<a class=\"anchor\" id=\"johnson2005\"></a> Johnson, N. L., Kemp, A. W., & Kotz, S. (2005). *Univariate discrete distributions* (Vol. 444). John Wiley & Sons."
   ]
  },
  {
   "cell_type": "markdown",
   "metadata": {},
   "source": [
    "[8]<a class=\"anchor\" id=\"oliphant2006\"></a> Oliphant, T. E. (2006). *A guide to NumPy* (Vol. 1, p. 85). USA: Trelgol Publishing."
   ]
  },
  {
   "cell_type": "markdown",
   "metadata": {},
   "source": [
    "[9]<a class=\"anchor\" id=\"walt2011\"></a> Walt, S. V. D., Colbert, S. C., & Varoquaux, G. (2011). The NumPy array: a structure for efficient numerical computation. *Computing in Science & Engineering*, 13(2), 22-30."
   ]
  },
  {
   "cell_type": "markdown",
   "metadata": {},
   "source": [
    "[10]<a class=\"anchor\" id=\"virtanen2020\"></a> Virtanen, P., Gommers, R., Oliphant, T. E., Haberland, M., Reddy, T., Cournapeau, D., ... & van der Walt, S. J. (2020). SciPy 1.0: fundamental algorithms for scientific computing in Python. *Nature methods*, 17(3), 261-272."
   ]
  }
 ],
 "metadata": {
  "kernelspec": {
   "display_name": "Python 3",
   "language": "python",
   "name": "python3"
  },
  "language_info": {
   "codemirror_mode": {
    "name": "ipython",
    "version": 3
   },
   "file_extension": ".py",
   "mimetype": "text/x-python",
   "name": "python",
   "nbconvert_exporter": "python",
   "pygments_lexer": "ipython3",
   "version": "3.7.4"
  }
 },
 "nbformat": 4,
 "nbformat_minor": 4
}
